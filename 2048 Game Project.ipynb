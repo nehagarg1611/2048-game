{
 "cells": [
  {
   "cell_type": "markdown",
   "id": "0d41e2a3",
   "metadata": {},
   "source": [
    "## starting with logics"
   ]
  },
  {
   "cell_type": "code",
   "execution_count": 52,
   "id": "8ff85621",
   "metadata": {},
   "outputs": [],
   "source": [
    "import random\n",
    "def start_game():\n",
    "    mat = []\n",
    "    for i in range(4):\n",
    "        mat.append([0]*4)\n",
    "    return mat\n",
    "def add_new_2(mat):\n",
    "    r = random.randint(0,3)\n",
    "    c = random.randint(0,3)\n",
    "    while mat[r][c] != 0:\n",
    "        r = random.randint(0,3)\n",
    "        c = random.randint(0,3)\n",
    "    mat[r][c] = 2\n",
    "def compress(mat):\n",
    "    changed = False\n",
    "    new_mat = [[0 for j in  range(4)] for i in range(4)]\n",
    "    for i in range(4):\n",
    "        pos = 0\n",
    "        for j in range(4):\n",
    "            if mat[i][j] != 0:\n",
    "                new_mat[i][pos] = mat[i][j]\n",
    "                if j != pos:\n",
    "                    changed = True\n",
    "                pos+=1\n",
    "    \n",
    "    return new_mat,changed       \n",
    "\n",
    "\n",
    "def reverse(mat):\n",
    "    new_mat = []\n",
    "    for i in range(4):\n",
    "        new_mat.append([])\n",
    "        for j in range(4):\n",
    "            new_mat[i].append(mat[i][4-j-1])\n",
    "    return new_mat\n",
    "def transpose(mat):\n",
    "    new_mat = []\n",
    "    for i in range(4):\n",
    "        new_mat.append([])\n",
    "        for j in range(4):\n",
    "            new_mat[i].append(mat[j][i])\n",
    "    return new_mat\n",
    "                \n",
    "                \n",
    "def merge(mat):\n",
    "    changed = False\n",
    "    for i in range(4):\n",
    "        for j in range(3):\n",
    "            if mat[i][j] == mat[i][j+1] and mat[i][j]!=0:\n",
    "                mat[i][j] = mat[i][j]*2\n",
    "                mat[i][j+1] = 0\n",
    "                changed = True\n",
    "    return mat,changed\n",
    "\n",
    "def move_left(mat):\n",
    "    new_mat,changed1 = compress(mat)\n",
    "    new_mat,changed2 = merge(new_mat)\n",
    "    changed = changed1 or changed2\n",
    "    new_mat = compress(new_mat)\n",
    "    return new_mat,changed\n",
    "def move_right(mat):\n",
    "    reversed_mat = reverse(mat)\n",
    "    new_mat,changed1 = compress(reversed_mat)\n",
    "    new_mat,changed2 = merge(new_mat)\n",
    "    changed = changed1 or changed2\n",
    "    new_mat = compress(new_mat)\n",
    "    final_mat = reverse(new_mat)\n",
    "    return final_mat,changed\n",
    "\n",
    "def move_up(mat):\n",
    "    transposed_mat = transpose(mat)\n",
    "    new_mat,changed1 = compress(transposed_mat)\n",
    "    new_mat,changed2 = merge(new_mat)\n",
    "    changed = changed1 or changed2\n",
    "    new_mat = compress(new_mat)\n",
    "    final_mat = transpose(new_mat)\n",
    "    return final_mat,changed\n",
    "\n",
    "def move_down(mat):\n",
    "    transposed_mat = transpose(mat)\n",
    "    reversed_mat = reverse(transposed_mat)\n",
    "    new_mat,changed1 = compress(reversed_mat)\n",
    "    new_mat,changed2 = merge(new_mat)\n",
    "    changed = changed1 or changed2\n",
    "    new_mat = compress(new_mat)\n",
    "    final_reversed_mat = reverse(new_mat)\n",
    "    final_mat = transpose(final_reversed_mat)\n",
    "    return final_mat,changed\n",
    "\n",
    "\n",
    "\n",
    "\n",
    "\n",
    "def get_current_state(mat):\n",
    "    for i in range(4):\n",
    "        for j in range(4):\n",
    "            if mat[i][j] == 2048:\n",
    "                return 'WON'\n",
    "    for i in range(4):\n",
    "        for j in range(4):\n",
    "            if mat[i][j] == 0:\n",
    "                return 'GAME NOT OVER'\n",
    "    # every row and col. except last one\n",
    "    for i in range(3):\n",
    "        for j in range(3):\n",
    "            if (mat[i][j] ==  mat[i+1][j]) or (mat[i][j] == mat[i][j+1]):\n",
    "                return 'GAME NOT OVER'\n",
    "            \n",
    "    # for last row\n",
    "    for j in range(3):\n",
    "        if mat[3][j] == mat[3][j+1]:\n",
    "            return 'GAME NOT OVER'\n",
    "        \n",
    "    # for last col\n",
    "    for i in range(3):\n",
    "        if mat[i][3] == mat[i+1][3]:\n",
    "            return 'GAME NOT OVER'\n",
    "    return 'LOST'"
   ]
  },
  {
   "cell_type": "code",
   "execution_count": 53,
   "id": "5ae5b4dd",
   "metadata": {},
   "outputs": [
    {
     "name": "stdout",
     "output_type": "stream",
     "text": [
      "[[0, 0, 0, 0], [0, 0, 0, 0], [0, 0, 0, 0], [0, 0, 0, 0]]\n"
     ]
    }
   ],
   "source": [
    "mat = start_game()\n",
    "print(mat)"
   ]
  },
  {
   "cell_type": "code",
   "execution_count": 54,
   "id": "c0749ce0",
   "metadata": {},
   "outputs": [
    {
     "name": "stdout",
     "output_type": "stream",
     "text": [
      "[[0, 0, 0, 0], [0, 0, 0, 0], [0, 0, 0, 2], [0, 0, 0, 0]]\n"
     ]
    }
   ],
   "source": [
    "add_new_2(mat)\n",
    "print(mat)"
   ]
  },
  {
   "cell_type": "code",
   "execution_count": 55,
   "id": "aad4d446",
   "metadata": {},
   "outputs": [
    {
     "name": "stdout",
     "output_type": "stream",
     "text": [
      "[[0, 0, 0, 0], [0, 2, 0, 0], [0, 0, 0, 2], [0, 0, 0, 0]]\n"
     ]
    }
   ],
   "source": [
    "add_new_2(mat)\n",
    "print(mat)"
   ]
  },
  {
   "cell_type": "code",
   "execution_count": 56,
   "id": "9335dacf",
   "metadata": {},
   "outputs": [
    {
     "ename": "TypeError",
     "evalue": "'bool' object is not subscriptable",
     "output_type": "error",
     "traceback": [
      "\u001b[1;31m---------------------------------------------------------------------------\u001b[0m",
      "\u001b[1;31mTypeError\u001b[0m                                 Traceback (most recent call last)",
      "\u001b[1;32m<ipython-input-56-7fb5a30821af>\u001b[0m in \u001b[0;36m<module>\u001b[1;34m\u001b[0m\n\u001b[1;32m----> 1\u001b[1;33m \u001b[0mmat\u001b[0m \u001b[1;33m=\u001b[0m \u001b[0mmove_up\u001b[0m\u001b[1;33m(\u001b[0m\u001b[0mmat\u001b[0m\u001b[1;33m)\u001b[0m\u001b[1;33m\u001b[0m\u001b[1;33m\u001b[0m\u001b[0m\n\u001b[0m\u001b[0;32m      2\u001b[0m \u001b[0mprint\u001b[0m\u001b[1;33m(\u001b[0m\u001b[0mmat\u001b[0m\u001b[1;33m)\u001b[0m\u001b[1;33m\u001b[0m\u001b[1;33m\u001b[0m\u001b[0m\n",
      "\u001b[1;32m<ipython-input-52-ebbd28c8ef91>\u001b[0m in \u001b[0;36mmove_up\u001b[1;34m(mat)\u001b[0m\n\u001b[0;32m     74\u001b[0m     \u001b[0mchanged\u001b[0m \u001b[1;33m=\u001b[0m \u001b[0mchanged1\u001b[0m \u001b[1;32mor\u001b[0m \u001b[0mchanged2\u001b[0m\u001b[1;33m\u001b[0m\u001b[1;33m\u001b[0m\u001b[0m\n\u001b[0;32m     75\u001b[0m     \u001b[0mnew_mat\u001b[0m \u001b[1;33m=\u001b[0m \u001b[0mcompress\u001b[0m\u001b[1;33m(\u001b[0m\u001b[0mnew_mat\u001b[0m\u001b[1;33m)\u001b[0m\u001b[1;33m\u001b[0m\u001b[1;33m\u001b[0m\u001b[0m\n\u001b[1;32m---> 76\u001b[1;33m     \u001b[0mfinal_mat\u001b[0m \u001b[1;33m=\u001b[0m \u001b[0mtranspose\u001b[0m\u001b[1;33m(\u001b[0m\u001b[0mnew_mat\u001b[0m\u001b[1;33m)\u001b[0m\u001b[1;33m\u001b[0m\u001b[1;33m\u001b[0m\u001b[0m\n\u001b[0m\u001b[0;32m     77\u001b[0m     \u001b[1;32mreturn\u001b[0m \u001b[0mfinal_mat\u001b[0m\u001b[1;33m,\u001b[0m\u001b[0mchanged\u001b[0m\u001b[1;33m\u001b[0m\u001b[1;33m\u001b[0m\u001b[0m\n\u001b[0;32m     78\u001b[0m \u001b[1;33m\u001b[0m\u001b[0m\n",
      "\u001b[1;32m<ipython-input-52-ebbd28c8ef91>\u001b[0m in \u001b[0;36mtranspose\u001b[1;34m(mat)\u001b[0m\n\u001b[0;32m     39\u001b[0m         \u001b[0mnew_mat\u001b[0m\u001b[1;33m.\u001b[0m\u001b[0mappend\u001b[0m\u001b[1;33m(\u001b[0m\u001b[1;33m[\u001b[0m\u001b[1;33m]\u001b[0m\u001b[1;33m)\u001b[0m\u001b[1;33m\u001b[0m\u001b[1;33m\u001b[0m\u001b[0m\n\u001b[0;32m     40\u001b[0m         \u001b[1;32mfor\u001b[0m \u001b[0mj\u001b[0m \u001b[1;32min\u001b[0m \u001b[0mrange\u001b[0m\u001b[1;33m(\u001b[0m\u001b[1;36m4\u001b[0m\u001b[1;33m)\u001b[0m\u001b[1;33m:\u001b[0m\u001b[1;33m\u001b[0m\u001b[1;33m\u001b[0m\u001b[0m\n\u001b[1;32m---> 41\u001b[1;33m             \u001b[0mnew_mat\u001b[0m\u001b[1;33m[\u001b[0m\u001b[0mi\u001b[0m\u001b[1;33m]\u001b[0m\u001b[1;33m.\u001b[0m\u001b[0mappend\u001b[0m\u001b[1;33m(\u001b[0m\u001b[0mmat\u001b[0m\u001b[1;33m[\u001b[0m\u001b[0mj\u001b[0m\u001b[1;33m]\u001b[0m\u001b[1;33m[\u001b[0m\u001b[0mi\u001b[0m\u001b[1;33m]\u001b[0m\u001b[1;33m)\u001b[0m\u001b[1;33m\u001b[0m\u001b[1;33m\u001b[0m\u001b[0m\n\u001b[0m\u001b[0;32m     42\u001b[0m     \u001b[1;32mreturn\u001b[0m \u001b[0mnew_mat\u001b[0m\u001b[1;33m\u001b[0m\u001b[1;33m\u001b[0m\u001b[0m\n\u001b[0;32m     43\u001b[0m \u001b[1;33m\u001b[0m\u001b[0m\n",
      "\u001b[1;31mTypeError\u001b[0m: 'bool' object is not subscriptable"
     ]
    }
   ],
   "source": [
    "mat = move_up(mat)\n",
    "print(mat)"
   ]
  },
  {
   "cell_type": "code",
   "execution_count": 57,
   "id": "2c5c4047",
   "metadata": {},
   "outputs": [
    {
     "ename": "TypeError",
     "evalue": "'bool' object is not subscriptable",
     "output_type": "error",
     "traceback": [
      "\u001b[1;31m---------------------------------------------------------------------------\u001b[0m",
      "\u001b[1;31mTypeError\u001b[0m                                 Traceback (most recent call last)",
      "\u001b[1;32m<ipython-input-57-c24ad3817f51>\u001b[0m in \u001b[0;36m<module>\u001b[1;34m\u001b[0m\n\u001b[1;32m----> 1\u001b[1;33m \u001b[0mmat\u001b[0m \u001b[1;33m=\u001b[0m \u001b[0mmove_right\u001b[0m\u001b[1;33m(\u001b[0m\u001b[0mmat\u001b[0m\u001b[1;33m)\u001b[0m\u001b[1;33m\u001b[0m\u001b[1;33m\u001b[0m\u001b[0m\n\u001b[0m\u001b[0;32m      2\u001b[0m \u001b[0mprint\u001b[0m\u001b[1;33m(\u001b[0m\u001b[0mmat\u001b[0m\u001b[1;33m)\u001b[0m\u001b[1;33m\u001b[0m\u001b[1;33m\u001b[0m\u001b[0m\n",
      "\u001b[1;32m<ipython-input-52-ebbd28c8ef91>\u001b[0m in \u001b[0;36mmove_right\u001b[1;34m(mat)\u001b[0m\n\u001b[0;32m     65\u001b[0m     \u001b[0mchanged\u001b[0m \u001b[1;33m=\u001b[0m \u001b[0mchanged1\u001b[0m \u001b[1;32mor\u001b[0m \u001b[0mchanged2\u001b[0m\u001b[1;33m\u001b[0m\u001b[1;33m\u001b[0m\u001b[0m\n\u001b[0;32m     66\u001b[0m     \u001b[0mnew_mat\u001b[0m \u001b[1;33m=\u001b[0m \u001b[0mcompress\u001b[0m\u001b[1;33m(\u001b[0m\u001b[0mnew_mat\u001b[0m\u001b[1;33m)\u001b[0m\u001b[1;33m\u001b[0m\u001b[1;33m\u001b[0m\u001b[0m\n\u001b[1;32m---> 67\u001b[1;33m     \u001b[0mfinal_mat\u001b[0m \u001b[1;33m=\u001b[0m \u001b[0mreverse\u001b[0m\u001b[1;33m(\u001b[0m\u001b[0mnew_mat\u001b[0m\u001b[1;33m)\u001b[0m\u001b[1;33m\u001b[0m\u001b[1;33m\u001b[0m\u001b[0m\n\u001b[0m\u001b[0;32m     68\u001b[0m     \u001b[1;32mreturn\u001b[0m \u001b[0mfinal_mat\u001b[0m\u001b[1;33m,\u001b[0m\u001b[0mchanged\u001b[0m\u001b[1;33m\u001b[0m\u001b[1;33m\u001b[0m\u001b[0m\n\u001b[0;32m     69\u001b[0m \u001b[1;33m\u001b[0m\u001b[0m\n",
      "\u001b[1;32m<ipython-input-52-ebbd28c8ef91>\u001b[0m in \u001b[0;36mreverse\u001b[1;34m(mat)\u001b[0m\n\u001b[0;32m     32\u001b[0m         \u001b[0mnew_mat\u001b[0m\u001b[1;33m.\u001b[0m\u001b[0mappend\u001b[0m\u001b[1;33m(\u001b[0m\u001b[1;33m[\u001b[0m\u001b[1;33m]\u001b[0m\u001b[1;33m)\u001b[0m\u001b[1;33m\u001b[0m\u001b[1;33m\u001b[0m\u001b[0m\n\u001b[0;32m     33\u001b[0m         \u001b[1;32mfor\u001b[0m \u001b[0mj\u001b[0m \u001b[1;32min\u001b[0m \u001b[0mrange\u001b[0m\u001b[1;33m(\u001b[0m\u001b[1;36m4\u001b[0m\u001b[1;33m)\u001b[0m\u001b[1;33m:\u001b[0m\u001b[1;33m\u001b[0m\u001b[1;33m\u001b[0m\u001b[0m\n\u001b[1;32m---> 34\u001b[1;33m             \u001b[0mnew_mat\u001b[0m\u001b[1;33m[\u001b[0m\u001b[0mi\u001b[0m\u001b[1;33m]\u001b[0m\u001b[1;33m.\u001b[0m\u001b[0mappend\u001b[0m\u001b[1;33m(\u001b[0m\u001b[0mmat\u001b[0m\u001b[1;33m[\u001b[0m\u001b[0mi\u001b[0m\u001b[1;33m]\u001b[0m\u001b[1;33m[\u001b[0m\u001b[1;36m4\u001b[0m\u001b[1;33m-\u001b[0m\u001b[0mj\u001b[0m\u001b[1;33m-\u001b[0m\u001b[1;36m1\u001b[0m\u001b[1;33m]\u001b[0m\u001b[1;33m)\u001b[0m\u001b[1;33m\u001b[0m\u001b[1;33m\u001b[0m\u001b[0m\n\u001b[0m\u001b[0;32m     35\u001b[0m     \u001b[1;32mreturn\u001b[0m \u001b[0mnew_mat\u001b[0m\u001b[1;33m\u001b[0m\u001b[1;33m\u001b[0m\u001b[0m\n\u001b[0;32m     36\u001b[0m \u001b[1;32mdef\u001b[0m \u001b[0mtranspose\u001b[0m\u001b[1;33m(\u001b[0m\u001b[0mmat\u001b[0m\u001b[1;33m)\u001b[0m\u001b[1;33m:\u001b[0m\u001b[1;33m\u001b[0m\u001b[1;33m\u001b[0m\u001b[0m\n",
      "\u001b[1;31mTypeError\u001b[0m: 'bool' object is not subscriptable"
     ]
    }
   ],
   "source": [
    "mat = move_right(mat)\n",
    "print(mat)"
   ]
  },
  {
   "cell_type": "code",
   "execution_count": 42,
   "id": "1dc44954",
   "metadata": {},
   "outputs": [
    {
     "name": "stdout",
     "output_type": "stream",
     "text": [
      "[[0, 0, 0, 0], [0, 0, 0, 2], [0, 0, 0, 0], [4, 0, 0, 0]]\n"
     ]
    }
   ],
   "source": [
    "add_new_2(mat)\n",
    "print(mat)"
   ]
  },
  {
   "cell_type": "code",
   "execution_count": 43,
   "id": "f695c4d3",
   "metadata": {},
   "outputs": [
    {
     "name": "stdout",
     "output_type": "stream",
     "text": [
      "[[0, 0, 0, 0], [0, 0, 0, 0], [0, 0, 0, 0], [4, 0, 0, 2]]\n"
     ]
    }
   ],
   "source": [
    "mat = move_down(mat)\n",
    "print(mat)"
   ]
  },
  {
   "cell_type": "code",
   "execution_count": 44,
   "id": "82405c28",
   "metadata": {},
   "outputs": [
    {
     "name": "stdout",
     "output_type": "stream",
     "text": [
      "[[0, 0, 0, 0], [0, 0, 0, 0], [0, 0, 0, 0], [4, 2, 0, 0]]\n"
     ]
    }
   ],
   "source": [
    "mat = move_left(mat)\n",
    "print(mat)"
   ]
  },
  {
   "cell_type": "code",
   "execution_count": 45,
   "id": "d17330b2",
   "metadata": {},
   "outputs": [
    {
     "name": "stdout",
     "output_type": "stream",
     "text": [
      "[[0, 0, 0, 0], [0, 0, 0, 0], [0, 2, 0, 0], [4, 2, 0, 0]]\n"
     ]
    }
   ],
   "source": [
    "add_new_2(mat)\n",
    "print(mat)"
   ]
  },
  {
   "cell_type": "code",
   "execution_count": 46,
   "id": "4c2727ae",
   "metadata": {},
   "outputs": [
    {
     "name": "stdout",
     "output_type": "stream",
     "text": [
      "[[0, 0, 0, 0], [0, 0, 0, 0], [2, 2, 0, 0], [4, 2, 0, 0]]\n"
     ]
    }
   ],
   "source": [
    "add_new_2(mat)\n",
    "print(mat)"
   ]
  },
  {
   "cell_type": "code",
   "execution_count": 49,
   "id": "0ebd1da2",
   "metadata": {},
   "outputs": [
    {
     "name": "stdout",
     "output_type": "stream",
     "text": [
      "[[0, 2, 0, 0], [0, 2, 0, 0], [2, 2, 0, 2], [4, 2, 0, 0]]\n"
     ]
    }
   ],
   "source": [
    "add_new_2(mat)\n",
    "print(mat)"
   ]
  },
  {
   "cell_type": "code",
   "execution_count": 50,
   "id": "df8a88aa",
   "metadata": {},
   "outputs": [
    {
     "name": "stdout",
     "output_type": "stream",
     "text": [
      "[[2, 0, 0, 0], [2, 0, 0, 0], [4, 2, 0, 0], [4, 2, 0, 0]]\n"
     ]
    }
   ],
   "source": [
    "mat = move_left(mat)\n",
    "print(mat)"
   ]
  },
  {
   "cell_type": "code",
   "execution_count": 51,
   "id": "d92d580e",
   "metadata": {},
   "outputs": [
    {
     "name": "stdout",
     "output_type": "stream",
     "text": [
      "[[0, 0, 0, 0], [0, 0, 0, 0], [4, 0, 0, 0], [8, 4, 0, 0]]\n"
     ]
    }
   ],
   "source": [
    "mat = move_down(mat)\n",
    "print(mat)"
   ]
  },
  {
   "cell_type": "code",
   "execution_count": null,
   "id": "d5eb9b73",
   "metadata": {},
   "outputs": [],
   "source": [
    "from Tkinter import Frame, Label, CENTER\n",
    "\n",
    "import LogicsFinal\n",
    "import constants as c\n",
    "\n",
    "\n",
    "class Game2048(Frame):\n",
    "    def __init__(self):\n",
    "        Frame.__init__(self)\n",
    "\n",
    "        self.grid()\n",
    "        self.master.title('2048')\n",
    "        self.master.bind(\"<Key>\", self.key_down)\n",
    "        self.commands = {c.KEY_UP: LogicsFinal.move_up, c.KEY_DOWN: LogicsFinal.move_down,\n",
    "                         c.KEY_LEFT: LogicsFinal.move_left, c.KEY_RIGHT: LogicsFinal.move_right\n",
    "                        }\n",
    "        \n",
    "        self.grid_cells = []\n",
    "        self.init_grid()\n",
    "        self.init_matrix()\n",
    "        self.update_grid_cells()\n",
    "\n",
    "        self.mainloop()\n",
    "\n",
    "    def init_grid(self):\n",
    "        background = Frame(self, bg=c.BACKGROUND_COLOR_GAME,\n",
    "                           width=c.SIZE, height=c.SIZE)\n",
    "        background.grid()\n",
    "\n",
    "        for i in range(c.GRID_LEN):\n",
    "            grid_row = []\n",
    "            for j in range(c.GRID_LEN):\n",
    "                cell = Frame(background, bg=c.BACKGROUND_COLOR_CELL_EMPTY,\n",
    "                             width=c.SIZE / c.GRID_LEN,\n",
    "                             height=c.SIZE / c.GRID_LEN)\n",
    "                cell.grid(row=i, column=j, padx=c.GRID_PADDING,\n",
    "                          pady=c.GRID_PADDING)\n",
    "                t = Label(master=cell, text=\"\",\n",
    "                          bg=c.BACKGROUND_COLOR_CELL_EMPTY,\n",
    "                          justify=CENTER, font=c.FONT, width=5, height=2)\n",
    "                t.grid()\n",
    "                grid_row.append(t)\n",
    "\n",
    "            self.grid_cells.append(grid_row)\n",
    "\n",
    "\n",
    "    def init_matrix(self):\n",
    "        self.matrix = LogicsFinal.start_game()\n",
    "        LogicsFinal.add_new_2(self.matrix)\n",
    "        LogicsFinal.add_new_2(self.matrix)\n",
    "\n",
    "    def update_grid_cells(self):\n",
    "        for i in range(c.GRID_LEN):\n",
    "            for j in range(c.GRID_LEN):\n",
    "                new_number = self.matrix[i][j]\n",
    "                if new_number == 0:\n",
    "                    self.grid_cells[i][j].configure(\n",
    "                        text=\"\", bg=c.BACKGROUND_COLOR_CELL_EMPTY)\n",
    "                else:\n",
    "                    self.grid_cells[i][j].configure(text=str(\n",
    "                        new_number), bg=c.BACKGROUND_COLOR_DICT[new_number],\n",
    "                        fg=c.CELL_COLOR_DICT[new_number])\n",
    "        self.update_idletasks()\n",
    "\n",
    "    def key_down(self, event):\n",
    "        key = repr(event.char)\n",
    "        if key in self.commands:\n",
    "            self.matrix, changed = self.commands[repr(event.char)](self.matrix)\n",
    "            if changed:\n",
    "                LogicsFinal.add_new_2(self.matrix)\n",
    "                self.update_grid_cells()\n",
    "                changed = False\n",
    "                if LogicsFinal.get_current_state(self.matrix) == 'WON':\n",
    "                    self.grid_cells[1][1].configure(\n",
    "                        text=\"You\", bg=c.BACKGROUND_COLOR_CELL_EMPTY)\n",
    "                    self.grid_cells[1][2].configure(\n",
    "                        text=\"Win!\", bg=c.BACKGROUND_COLOR_CELL_EMPTY)\n",
    "                if LogicsFinal.get_current_state(self.matrix) == 'LOST':\n",
    "                    self.grid_cells[1][1].configure(\n",
    "                        text=\"You\", bg=c.BACKGROUND_COLOR_CELL_EMPTY)\n",
    "                    self.grid_cells[1][2].configure(\n",
    "                        text=\"Lose!\", bg=c.BACKGROUND_COLOR_CELL_EMPTY)\n",
    "\n",
    "\n",
    "\n",
    "gamegrid = Game2048()\n",
    "\n"
   ]
  }
 ],
 "metadata": {
  "kernelspec": {
   "display_name": "Python 3",
   "language": "python",
   "name": "python3"
  },
  "language_info": {
   "codemirror_mode": {
    "name": "ipython",
    "version": 3
   },
   "file_extension": ".py",
   "mimetype": "text/x-python",
   "name": "python",
   "nbconvert_exporter": "python",
   "pygments_lexer": "ipython3",
   "version": "3.8.8"
  }
 },
 "nbformat": 4,
 "nbformat_minor": 5
}
